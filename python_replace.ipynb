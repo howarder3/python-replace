{
 "cells": [
  {
   "cell_type": "code",
   "execution_count": 1,
   "metadata": {},
   "outputs": [
    {
     "data": {
      "text/plain": [
       "\".gif','https://i.imgur.com/N48r8cd.gif','https://i.imgur.com/iSAnJd4.gif','https://i.imgur.com/8H72aoG.gif','https://i.imgur.com/BTNb7zf.gif','https://i.imgur.com/XO7YFi5.gif','https://i.imgur.com/x0qYhR7\""
      ]
     },
     "execution_count": 1,
     "metadata": {},
     "output_type": "execute_result"
    }
   ],
   "source": [
    "str = \"https://imgur.com/N48r8cdhttps://imgur.com/iSAnJd4https://imgur.com/8H72aoGhttps://imgur.com/BTNb7zfhttps://imgur.com/XO7YFi5https://imgur.com/x0qYhR7\"\n",
    "\n",
    "str = str.replace(\"://\", \"://i.\", 10000)\n",
    "str = str.replace(\"https\", \".gif','https\", 10000)\n",
    "\n",
    "str"
   ]
  },
  {
   "cell_type": "code",
   "execution_count": 4,
   "metadata": {},
   "outputs": [
    {
     "name": "stdout",
     "output_type": "stream",
     "text": [
      "乖 很棒\n",
      "很棒\n"
     ]
    }
   ],
   "source": [
    "user_message = \"!教育 乖 很棒\"\n",
    "reply_message = user_message.lstrip(\"!教育 \")\n",
    "print (reply_message) \n",
    "split_result = reply_message.split(' ', 1 );\n",
    "print (key[1])\n"
   ]
  },
  {
   "cell_type": "code",
   "execution_count": 3,
   "metadata": {},
   "outputs": [
    {
     "data": {
      "text/plain": [
       "\"牛込りみ','山吹沙綾','戸山香澄','市ヶ谷有咲','花園たえ','上原ひまり','羽沢つぐみ','美竹蘭','宇田川巴','青葉モカ','白鷺千聖','若宮イヴ','丸山彩','大和麻弥','氷川日菜','氷川紗夜','宇田川あこ','湊友希那','白金燐子','今井リサ','北沢はぐみ','奥沢美咲','弦巻こころ','瀬田薫','松原花音\""
      ]
     },
     "execution_count": 3,
     "metadata": {},
     "output_type": "execute_result"
    }
   ],
   "source": [
    "#replace\n",
    "str = \"牛込りみ 山吹沙綾 戸山香澄 市ヶ谷有咲 花園たえ 上原ひまり 羽沢つぐみ 美竹蘭 宇田川巴 青葉モカ 白鷺千聖 若宮イヴ 丸山彩 大和麻弥 氷川日菜 氷川紗夜 宇田川あこ 湊友希那 白金燐子 今井リサ 北沢はぐみ 奥沢美咲 弦巻こころ 瀬田薫 松原花音\"\n",
    "str = str.replace(\" \", \"','\", 10000)\n",
    "str\n"
   ]
  },
  {
   "cell_type": "code",
   "execution_count": 7,
   "metadata": {},
   "outputs": [
    {
     "name": "stdout",
     "output_type": "stream",
     "text": [
      "2\n"
     ]
    }
   ],
   "source": [
    "#random list\n",
    "import random\n",
    "print(random.choice([1,2,3,4,5]))\n"
   ]
  },
  {
   "cell_type": "code",
   "execution_count": 11,
   "metadata": {},
   "outputs": [
    {
     "data": {
      "text/plain": [
       "'羽沢つぐみ'"
      ]
     },
     "execution_count": 11,
     "metadata": {},
     "output_type": "execute_result"
    }
   ],
   "source": [
    "BGD_namelist = ['牛込りみ','山吹沙綾','戸山香澄','市ヶ谷有咲','花園たえ','上原ひまり','羽沢つぐみ','美竹蘭','宇田川巴','青葉モカ','白鷺千聖','若宮イヴ','丸山彩','大和麻弥','氷川日菜','氷川紗夜','宇田川あこ','湊友希那','白金燐子','今井リサ','北沢はぐみ','奥沢美咲','弦巻こころ','瀬田薫','松原花音']\n",
    "random.choice(BGD_namelist)"
   ]
  },
  {
   "cell_type": "code",
   "execution_count": null,
   "metadata": {
    "collapsed": true
   },
   "outputs": [],
   "source": []
  }
 ],
 "metadata": {
  "kernelspec": {
   "display_name": "Python 3",
   "language": "python",
   "name": "python3"
  },
  "language_info": {
   "codemirror_mode": {
    "name": "ipython",
    "version": 3
   },
   "file_extension": ".py",
   "mimetype": "text/x-python",
   "name": "python",
   "nbconvert_exporter": "python",
   "pygments_lexer": "ipython3",
   "version": "3.6.3"
  }
 },
 "nbformat": 4,
 "nbformat_minor": 2
}
